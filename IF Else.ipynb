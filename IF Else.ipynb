{
 "cells": [
  {
   "cell_type": "code",
   "execution_count": 1,
   "id": "e332bdf4",
   "metadata": {},
   "outputs": [
    {
     "name": "stdout",
     "output_type": "stream",
     "text": [
      "It Is A Negative number\n"
     ]
    }
   ],
   "source": [
    "# Program checks if the number is positive or negative\n",
    "# And displays an appropriate message\n",
    "\n",
    "num = -3\n",
    "if num >= 0:\n",
    "    print(\"It Is A Positive or Zero\")\n",
    "else:\n",
    "    print(\"It Is A Negative number\")"
   ]
  }
 ],
 "metadata": {
  "kernelspec": {
   "display_name": "Python 3 (ipykernel)",
   "language": "python",
   "name": "python3"
  },
  "language_info": {
   "codemirror_mode": {
    "name": "ipython",
    "version": 3
   },
   "file_extension": ".py",
   "mimetype": "text/x-python",
   "name": "python",
   "nbconvert_exporter": "python",
   "pygments_lexer": "ipython3",
   "version": "3.9.7"
  }
 },
 "nbformat": 4,
 "nbformat_minor": 5
}
