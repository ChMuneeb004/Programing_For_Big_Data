{
 "cells": [
  {
   "cell_type": "code",
   "execution_count": 1,
   "id": "8351b105",
   "metadata": {},
   "outputs": [
    {
     "name": "stdout",
     "output_type": "stream",
     "text": [
      "Enter a number: -5\n",
      "It Is A Negative number\n"
     ]
    }
   ],
   "source": [
    "'''In this program, we input a number and check\n",
    "if the number is positive or negative or zero\n",
    "and display an appropriate message using nested if statement'''\n",
    "\n",
    "num = float(input(\"Enter a number: \"))\n",
    "if num >= 0:\n",
    "    if num == 0:\n",
    "        print(\"It Is Zero\")\n",
    "    else:\n",
    "        print(\"It Is A Positive number\")\n",
    "else:\n",
    "    print(\"It Is A Negative number\")"
   ]
  }
 ],
 "metadata": {
  "kernelspec": {
   "display_name": "Python 3 (ipykernel)",
   "language": "python",
   "name": "python3"
  },
  "language_info": {
   "codemirror_mode": {
    "name": "ipython",
    "version": 3
   },
   "file_extension": ".py",
   "mimetype": "text/x-python",
   "name": "python",
   "nbconvert_exporter": "python",
   "pygments_lexer": "ipython3",
   "version": "3.9.7"
  }
 },
 "nbformat": 4,
 "nbformat_minor": 5
}
