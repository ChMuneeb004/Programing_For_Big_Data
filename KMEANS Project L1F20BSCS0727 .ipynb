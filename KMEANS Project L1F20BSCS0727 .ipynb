{
 "cells": [
  {
   "cell_type": "code",
   "execution_count": 1,
   "id": "f833e025",
   "metadata": {},
   "outputs": [],
   "source": [
    "#Importing OS Library To Read All .txt Files From A Path of A Folder\n",
    "import os\n",
    "Path_Of_Folder = r\"C:\\Users\\DELL\\Desktop\\WIKIPEDIA\"\n",
    "Path_Of_File = [os.path.join(Path_Of_Folder, name) for name in os.listdir(Path_Of_Folder)]\n",
    "\n",
    "all_files_data = []\n",
    "for path in Path_Of_File:\n",
    "    with open(path, 'r', encoding=\"ISO-8859-1\") as f:\n",
    "        file_data = f.readlines()\n",
    "        all_files_data.append(file_data)"
   ]
  },
  {
   "cell_type": "code",
   "execution_count": 2,
   "id": "f0282ee3",
   "metadata": {},
   "outputs": [
    {
     "name": "stdout",
     "output_type": "stream",
     "text": [
      "Readed Data:  ['Comet Shoemakerâ\\x80\\x93Levy 9 (formally designated D/1993 F2) was a comet that broke apart and collided with Jupiter in July 1994, providing the first direct observation of an extraterrestrial collision of Solar System objects. This generated a large amount of coverage in the popular media, and the comet was closely observed by astronomers worldwide. The collision provided new information about Jupiter and highlighted its role in reducing space debris in the inner Solar System.\\n', '\\n', 'The comet was discovered by astronomers Carolyn and Eugene M. Shoemaker and David Levy. Shoemakerâ\\x80\\x93Levy 9, at the time captured by and orbiting Jupiter, was located on the night of March 24, 1993, in a photograph taken with the Schmidt telescope at the Palomar Observatory in California. It was the first comet observed to be orbiting a planet, and had probably been captured by the planet around 20 â\\x80\\x93 30 years earlier.\\n', '\\n', \"Calculations showed that its unusual fragmented form was due to a previous closer approach to Jupiter in July 1992. At that time, the orbit of Shoemakerâ\\x80\\x93Levy 9 passed within Jupiter's Roche limit, and Jupiter's tidal forces had acted to pull apart the comet. The comet was later observed as a series of fragments ranging up to in diameter. These fragments collided with Jupiter's southern hemisphere between July 16 and July 22, 1994, at a speed of approximately or . The prominent scars from the impacts were more easily visible than the Great Red Spot and persisted for many months.\\n\", '\\n', '== Discovery ==\\n', 'While conducting a program of observations designed to uncover near-Earth objects, the Shoemakers and Levy discovered Comet Shoemakerâ\\x80\\x93Levy 9 on the night of March 24, 1993 in a photograph taken with the Schmidt telescope at the Palomar Observatory in California. The comet was thus a serendipitous discovery, but one that quickly overshadowed the results from their main observing program. \\n', '\\n', 'Comet Shoemakerâ\\x80\\x93Levy 9 was the ninth periodic comet (a comet whose orbital period is 200 years or less) discovered by the Shoemakers and Levy, hence its name. It was their eleventh comet discovery overall including their discovery of two non-periodic comets, which use a different nomenclature. The discovery was announced in IAU Circular 5725 on March 27, 1993. \\n', '\\n', \"The discovery image gave the first hint that comet Shoemakerâ\\x80\\x93Levy 9 was an unusual comet, as it appeared to show multiple nuclei in an elongated region about 50 arcseconds long and 10 arcseconds wide. Brian G. Marsden of the Central Bureau for Astronomical Telegrams noted that the comet lay only about 4 degrees from Jupiter as seen from Earth, and that while this could of course be a line of sight effect, its apparent motion in the sky suggested that it was physically close to the giant planet. Because of this, he suggested that the Shoemakers and David Levy had discovered the fragments of a comet that had been disrupted by Jupiter's gravity.\\n\", '\\n', '== Jupiter-orbiting comet ==\\n', 'Orbital studies of the new comet soon revealed that it was orbiting Jupiter rather than the Sun, unlike all other comets known at the time. Its orbit around Jupiter was very loosely bound, with a period of about 2 years and an apojove (the point in the orbit farthest from the planet) of 0.33 AU. Its orbit around the planet was highly eccentric (e = 0.9986). \\n', '\\n', \"Tracing back the comet's orbital movement revealed that it had been orbiting Jupiter for some time. It seems most likely that it was captured from a solar orbit in the early 1970s, although the capture may have occurred as early as the mid-1960s. Several other observers found images of the comet in precovery images obtained before March 24, including Kin Endate from a photograph exposed on March 15, S. Otomo on March 17, and a team led by Eleanor Helin from images on March 19. No precovery images dating back to earlier than March 1993 have been found. Before the comet was captured by Jupiter, it was probably a short-period comet with an aphelion just inside Jupiter's orbit, and a perihelion interior to the asteroid belt. \\n\", '\\n', \"The volume of space within which an object can be said to orbit Jupiter is defined by Jupiter's Hill sphere (also called the Roche sphere). When the comet passed Jupiter in the late 1960s or early 1970s, it happened to be near its aphelion, and found itself slightly within Jupiter's Hill sphere. Jupiter's gravity nudged the comet towards it. Because the comet's motion with respect to Jupiter was very small, it fell almost straight toward Jupiter, which is why it ended up on a Jupiter-centric orbit of very high eccentricitythat is to say, the ellipse was nearly flattened out. \\n\", '\\n', 'The comet had apparently passed extremely close to Jupiter on July 7, 1992, just over 40000 km above the planet\\'s cloud topsa smaller distance than Jupiter\\'s radius of 70000 km, and well within the orbit of Jupiter\\'s innermost moon Metis and the planet\\'s Roche limit, inside which tidal forces are strong enough to disrupt a body held together only by gravity. Although the comet had approached Jupiter closely before, the July 7 encounter seemed to be by far the closest, and the fragmentation of the comet is thought to have occurred at this time. Each fragment of the comet was denoted by a letter of the alphabet, from \"fragment A\" through to \"fragment W\", a practice already established from previously observed broken-up comets. \\n', '\\n', \"More exciting for planetary astronomers was that the best orbital solutions suggested that the comet would pass within 45000 km of the center of Jupiter, a distance smaller than the planet's radius, meaning that there was an extremely high probability that SL9 would collide with Jupiter in July 1994. Studies suggested that the train of nuclei would plow into Jupiter's atmosphere over a period of about five days. \\n\", '\\n', '== Predictions for the collision ==\\n', \"The discovery that the comet was likely to collide with Jupiter caused great excitement within the astronomical community and beyond, as astronomers had never before seen two significant Solar System bodies collide. Intense studies of the comet were undertaken, and as its orbit became more accurately established, the possibility of a collision became a certainty. The collision would provide a unique opportunity for scientists to look inside Jupiter's atmosphere, as the collisions were expected to cause eruptions of material from the layers normally hidden beneath the clouds. \\n\", '\\n', 'Astronomers estimated that the visible fragments of SL9 ranged in size from a few hundred metres to two kilometres across, suggesting that the original comet may have had a nucleus up to acrosssomewhat larger than Comet Hyakutake, which became very bright when it passed close to the Earth in 1996. One of the great debates in advance of the impact was whether the effects of the impact of such small bodies would be noticeable from Earth, apart from a flash as they disintegrated like giant meteors. \\n', 'Other suggested effects of the impacts were seismic waves travelling across the planet, an increase in stratospheric haze on the planet due to dust from the impacts, and an increase in the mass of the Jovian ring system. However, given that observing such a collision was completely unprecedented, astronomers were cautious with their predictions of what the event might reveal. \\n', '\\n', '== Impacts ==\\n', \"Jupiter in Ultraviolet (about 2.5 hours after R's impact). The black dot near the top is Io transiting Jupiter.\\n\", '\\n', \"Anticipation grew as the predicted date for the collisions approached, and astronomers trained terrestrial telescopes on Jupiter. Several space observatories did the same, including the Hubble Space Telescope, the ROSAT X-ray observing satellite, and significantly the Galileo spacecraft, then on its way to a rendezvous with Jupiter scheduled for 1995. While the impacts took place on the side of Jupiter hidden from Earth, Galileo, then at a distance of 1.6 AU from the planet, was able to see the impacts as they occurred. Jupiter's rapid rotation brought the impact sites into view for terrestrial observers a few minutes after the collisions. \\n\", ' \\n', '\\n', 'Two other satellites made observations at the time of the impact: the Ulysses spacecraft, primarily designed for solar observations, was pointed towards Jupiter from its location 2.6 AU away, and the distant Voyager 2 probe, some 44 AU from Jupiter and on its way out of the Solar System following its encounter with Neptune in 1989, was programmed to look for radio emission in the 1â\\x80\\x93390 kHz range. \\n', '\\n', 'HST images of a fireball from the first impact appearing over the limb of the planet\\n', '\\n', \"The first impact occurred at 20:13 UTC on July 16, 1994, when fragment A of the nucleus entered Jupiter's southern hemisphere at a speed of about 60 km/s. Instruments on Galileo detected a fireball which reached a peak temperature of about 24,000 K, compared to the typical Jovian cloudtop temperature of about 130 K, before expanding and cooling rapidly to about 1500 K after 40 s. The plume from the fireball quickly reached a height of over 3,000 km. A few minutes after the impact fireball was detected, Galileo measured renewed heating, probably due to ejected material falling back onto the planet. Earth-based observers detected the fireball rising over the limb of the planet shortly after the initial impact. \\n\", '\\n', 'Astronomers had expected to see the fireballs from the impacts, but did not have any idea in advance how visible the atmospheric effects of the impacts would be from Earth. Observers soon saw a huge dark spot after the first impact. The spot was visible even in very small telescopes, and was about (one Earth radius) across. This and subsequent dark spots were thought to have been caused by debris from the impacts, and were markedly asymmetric, forming crescent shapes in front of the direction of impact. \\n', '\\n', \"Over the next 6 days, 21 distinct impacts were observed, with the largest coming on July 18 at 07:33 UTC when fragment G struck Jupiter. This impact created a giant dark spot over 12,000 km across, and was estimated to have released an energy equivalent to 6,000,000 megatons of TNT (600 times the world's nuclear arsenal). Two impacts 12 hours apart on July 19 created impact marks of similar size to that caused by fragment G, and impacts continued until July 22, when fragment W struck the planet. \\n\", '\\n', '== Observations and discoveries ==\\n', '\\n', '=== Chemical studies ===\\n', \"Brown spots mark impact sites on Jupiter's southern hemisphere.\\n\", '\\n', 'Observers hoped that the impacts would give them a first glimpse of Jupiter beneath the cloud tops, as lower material was exposed by the comet fragments punching through the upper atmosphere. Spectroscopic studies revealed absorption lines in the Jovian spectrum due to diatomic sulfur (S2) and carbon disulfide (CS2), the first detection of either in Jupiter, and only the second detection of S2 in any astronomical object. Other molecules detected included ammonia (NH3) and hydrogen sulfide (H2S). The amount of sulfur implied by the quantities of these compounds was much greater than the amount that would be expected in a small cometary nucleus, showing that material from within Jupiter was being revealed. Oxygen-bearing molecules such as sulfur dioxide were not detected, to the surprise of astronomers. \\n', '\\n', \"As well as these molecules, emission from heavy atoms such as iron, magnesium and silicon was detected, with abundances consistent with what would be found in a cometary nucleus. While substantial water was detected spectroscopically, it was not as much as predicted beforehand, meaning that either the water layer thought to exist below the clouds was thinner than predicted, or that the cometary fragments did not penetrate deeply enough. The relatively low levels of water were later confirmed by Galileo's atmospheric probe, which explored Jupiter's atmosphere directly.\\n\", '\\n', '=== Waves ===\\n', 'As predicted beforehand, the collisions generated enormous waves which swept across the planet at speeds of and were observed for over two hours after the largest impacts. The waves were thought to be travelling within a stable layer acting as a waveguide, and some scientists believed the stable layer must lie within the hypothesised tropospheric water cloud. However, other evidence seemed to indicate that the cometary fragments had not reached the water layer, and the waves were instead propagating within the stratosphere. \\n', '\\n', '=== Other observations ===\\n', 'A sequence of Galileo images, taken several seconds apart, showing the appearance of the fireball of fragment W on the dark side of Jupiter\\n', '\\n', 'Radio observations revealed a sharp increase in continuum emission at a wavelength of 21 cm after the largest impacts, which peaked at 120% of the normal emission from the planet. This was thought to be due to synchrotron radiation, caused by the injection of relativistic electronselectrons with velocities near the speed of lightinto the Jovian magnetosphere by the impacts. \\n', '\\n', \"About an hour after fragment K entered Jupiter, observers recorded auroral emission near the impact region, as well as at the antipode of the impact site with respect to Jupiter's strong magnetic field. The cause of these emissions was difficult to establish due to a lack of knowledge of Jupiter's internal magnetic field and of the geometry of the impact sites. One possible explanation was that upwardly accelerating shock waves from the impact accelerated charged particles enough to cause auroral emission, a phenomenon more typically associated with fast-moving solar wind particles striking a planetary atmosphere near a magnetic pole. \\n\", '\\n', 'Some astronomers had suggested that the impacts might have a noticeable effect on the Io torus, a torus of high-energy particles connecting Jupiter with the highly volcanic moon Io. High resolution spectroscopic studies found that variations in the ion density, rotational velocity, and temperatures at the time of impact and afterwards were within the normal limits. \\n', '\\n', '== Post-impact analysis ==\\n', 'A reddish, asymmetric ejecta pattern\\n', '\\n', \"One of the surprises of the impacts was the small amount of water revealed compared to prior predictions. Before the impact, models of Jupiter's atmosphere had indicated that the break-up of the largest fragments would occur at atmospheric pressures of anywhere from 30 kilopascals to a few tens of megapascals (from 0.3 to a few hundred bar), with some predictions that the comet would penetrate a layer of water and create a bluish shroud over that region of Jupiter. \\n\", '\\n', \"Astronomers did not observe large amounts of water following the collisions, and later impact studies found that fragmentation and destruction of the cometary fragments in an 'airburst' probably occurred at much higher altitudes than previously expected, with even the largest fragments being destroyed when the pressure reached , well above the expected depth of the water layer. The smaller fragments were probably destroyed before they even reached the cloud layer. \\n\", '\\n', '== Longer-term effects ==']\n"
     ]
    }
   ],
   "source": [
    "#Converting My List Of Data into String \n",
    "DataString =' '.join(map(str, all_files_data))\n",
    "print(\"Readed Data: \",DataString)"
   ]
  },
  {
   "cell_type": "code",
   "execution_count": 3,
   "id": "b11afb37",
   "metadata": {
    "scrolled": true
   },
   "outputs": [
    {
     "name": "stdout",
     "output_type": "stream",
     "text": [
      "Requirement already satisfied: nltk in c:\\users\\dell\\anaconda3\\lib\\site-packages (3.6.5)\n",
      "Requirement already satisfied: click in c:\\users\\dell\\anaconda3\\lib\\site-packages (from nltk) (8.0.3)\n",
      "Requirement already satisfied: joblib in c:\\users\\dell\\anaconda3\\lib\\site-packages (from nltk) (1.1.0)\n",
      "Requirement already satisfied: regex>=2021.8.3 in c:\\users\\dell\\anaconda3\\lib\\site-packages (from nltk) (2021.8.3)\n",
      "Requirement already satisfied: tqdm in c:\\users\\dell\\anaconda3\\lib\\site-packages (from nltk) (4.62.3)\n",
      "Requirement already satisfied: colorama in c:\\users\\dell\\anaconda3\\lib\\site-packages (from click->nltk) (0.4.4)\n",
      "Note: you may need to restart the kernel to use updated packages.\n"
     ]
    },
    {
     "name": "stderr",
     "output_type": "stream",
     "text": [
      "[nltk_data] Downloading package punkt to\n",
      "[nltk_data]     C:\\Users\\DELL\\AppData\\Roaming\\nltk_data...\n",
      "[nltk_data]   Package punkt is already up-to-date!\n",
      "[nltk_data] Downloading package stopwords to\n",
      "[nltk_data]     C:\\Users\\DELL\\AppData\\Roaming\\nltk_data...\n",
      "[nltk_data]   Package stopwords is already up-to-date!\n",
      "[nltk_data] Downloading package wordnet to\n",
      "[nltk_data]     C:\\Users\\DELL\\AppData\\Roaming\\nltk_data...\n",
      "[nltk_data]   Package wordnet is already up-to-date!\n"
     ]
    },
    {
     "data": {
      "text/plain": [
       "True"
      ]
     },
     "execution_count": 3,
     "metadata": {},
     "output_type": "execute_result"
    }
   ],
   "source": [
    "#Installing and importing nltk library For Removing Stopwords And Performing Lemmatization\n",
    "%pip install nltk \n",
    "import nltk\n",
    "nltk.download('punkt')\n",
    "\n",
    "#Downloading And Importing Stopwords From nltk.corpus To Remove Stopwords\n",
    "nltk.download('stopwords')\n",
    "from nltk.corpus import stopwords\n",
    "from nltk.tokenize import word_tokenize\n",
    "\n",
    "#Downloading And importing WordNetLemmatizer From nltk.stem To Perform Lemmatization\n",
    "from nltk.stem import WordNetLemmatizer\n",
    "nltk.download('wordnet')"
   ]
  },
  {
   "cell_type": "code",
   "execution_count": 4,
   "id": "0fa5b625",
   "metadata": {
    "scrolled": true
   },
   "outputs": [
    {
     "name": "stdout",
     "output_type": "stream",
     "text": [
      "Updated Data after Performing stopwords:  ['[', \"'Comet\", 'Shoemakerâ\\\\x80\\\\x93Levy', '9', '(', 'formally', 'designated', 'D/1993', 'F2', ')', 'comet', 'broke', 'apart', 'collided', 'Jupiter', 'July', '1994', ',', 'providing', 'first', 'direct', 'observation', 'extraterrestrial', 'collision', 'Solar', 'System', 'objects', '.', 'This', 'generated', 'large', 'amount', 'coverage', 'popular', 'media', ',', 'comet', 'closely', 'observed', 'astronomers', 'worldwide', '.', 'The', 'collision', 'provided', 'new', 'information', 'Jupiter', 'highlighted', 'role', 'reducing', 'space', 'debris', 'inner', 'Solar', 'System.\\\\n', \"'\", ',', \"'\\\\n\", \"'\", ',', \"'The\", 'comet', 'discovered', 'astronomers', 'Carolyn', 'Eugene', 'M.', 'Shoemaker', 'David', 'Levy', '.', 'Shoemakerâ\\\\x80\\\\x93Levy', '9', ',', 'time', 'captured', 'orbiting', 'Jupiter', ',', 'located', 'night', 'March', '24', ',', '1993', ',', 'photograph', 'taken', 'Schmidt', 'telescope', 'Palomar', 'Observatory', 'California', '.', 'It', 'first', 'comet', 'observed', 'orbiting', 'planet', ',', 'probably', 'captured', 'planet', 'around', '20', 'â\\\\x80\\\\x93', '30', 'years', 'earlier.\\\\n', \"'\", ',', \"'\\\\n\", \"'\", ',', '``', 'Calculations', 'showed', 'unusual', 'fragmented', 'form', 'due', 'previous', 'closer', 'approach', 'Jupiter', 'July', '1992', '.', 'At', 'time', ',', 'orbit', 'Shoemakerâ\\\\x80\\\\x93Levy', '9', 'passed', 'within', 'Jupiter', \"'s\", 'Roche', 'limit', ',', 'Jupiter', \"'s\", 'tidal', 'forces', 'acted', 'pull', 'apart', 'comet', '.', 'The', 'comet', 'later', 'observed', 'series', 'fragments', 'ranging', 'diameter', '.', 'These', 'fragments', 'collided', 'Jupiter', \"'s\", 'southern', 'hemisphere', 'July', '16', 'July', '22', ',', '1994', ',', 'speed', 'approximately', '.', 'The', 'prominent', 'scars', 'impacts', 'easily', 'visible', 'Great', 'Red', 'Spot', 'persisted', 'many', 'months.\\\\n', \"''\", ',', \"'\\\\n\", \"'\", ',', \"'==\", 'Discovery', '==\\\\n', \"'\", ',', \"'While\", 'conducting', 'program', 'observations', 'designed', 'uncover', 'near-Earth', 'objects', ',', 'Shoemakers', 'Levy', 'discovered', 'Comet', 'Shoemakerâ\\\\x80\\\\x93Levy', '9', 'night', 'March', '24', ',', '1993', 'photograph', 'taken', 'Schmidt', 'telescope', 'Palomar', 'Observatory', 'California', '.', 'The', 'comet', 'thus', 'serendipitous', 'discovery', ',', 'quickly', 'overshadowed', 'results', 'main', 'observing', 'program', '.', '\\\\n', \"'\", ',', \"'\\\\n\", \"'\", ',', \"'Comet\", 'Shoemakerâ\\\\x80\\\\x93Levy', '9', 'ninth', 'periodic', 'comet', '(', 'comet', 'whose', 'orbital', 'period', '200', 'years', 'less', ')', 'discovered', 'Shoemakers', 'Levy', ',', 'hence', '.', 'It', 'eleventh', 'comet', 'discovery', 'overall', 'including', 'discovery', 'two', 'non-periodic', 'comets', ',', 'use', 'different', 'nomenclature', '.', 'The', 'discovery', 'announced', 'IAU', 'Circular', '5725', 'March', '27', ',', '1993', '.', '\\\\n', \"'\", ',', \"'\\\\n\", \"'\", ',', '``', 'The', 'discovery', 'image', 'gave', 'first', 'hint', 'comet', 'Shoemakerâ\\\\x80\\\\x93Levy', '9', 'unusual', 'comet', ',', 'appeared', 'show', 'multiple', 'nuclei', 'elongated', 'region', '50', 'arcseconds', 'long', '10', 'arcseconds', 'wide', '.', 'Brian', 'G.', 'Marsden', 'Central', 'Bureau', 'Astronomical', 'Telegrams', 'noted', 'comet', 'lay', '4', 'degrees', 'Jupiter', 'seen', 'Earth', ',', 'could', 'course', 'line', 'sight', 'effect', ',', 'apparent', 'motion', 'sky', 'suggested', 'physically', 'close', 'giant', 'planet', '.', 'Because', ',', 'suggested', 'Shoemakers', 'David', 'Levy', 'discovered', 'fragments', 'comet', 'disrupted', 'Jupiter', \"'s\", 'gravity.\\\\n', \"''\", ',', \"'\\\\n\", \"'\", ',', \"'==\", 'Jupiter-orbiting', 'comet', '==\\\\n', \"'\", ',', \"'Orbital\", 'studies', 'new', 'comet', 'soon', 'revealed', 'orbiting', 'Jupiter', 'rather', 'Sun', ',', 'unlike', 'comets', 'known', 'time', '.', 'Its', 'orbit', 'around', 'Jupiter', 'loosely', 'bound', ',', 'period', '2', 'years', 'apojove', '(', 'point', 'orbit', 'farthest', 'planet', ')', '0.33', 'AU', '.', 'Its', 'orbit', 'around', 'planet', 'highly', 'eccentric', '(', '=', '0.9986', ')', '.', '\\\\n', \"'\", ',', \"'\\\\n\", \"'\", ',', '``', 'Tracing', 'back', 'comet', \"'s\", 'orbital', 'movement', 'revealed', 'orbiting', 'Jupiter', 'time', '.', 'It', 'seems', 'likely', 'captured', 'solar', 'orbit', 'early', '1970s', ',', 'although', 'capture', 'may', 'occurred', 'early', 'mid-1960s', '.', 'Several', 'observers', 'found', 'images', 'comet', 'precovery', 'images', 'obtained', 'March', '24', ',', 'including', 'Kin', 'Endate', 'photograph', 'exposed', 'March', '15', ',', 'S.', 'Otomo', 'March', '17', ',', 'team', 'led', 'Eleanor', 'Helin', 'images', 'March', '19', '.', 'No', 'precovery', 'images', 'dating', 'back', 'earlier', 'March', '1993', 'found', '.', 'Before', 'comet', 'captured', 'Jupiter', ',', 'probably', 'short-period', 'comet', 'aphelion', 'inside', 'Jupiter', \"'s\", 'orbit', ',', 'perihelion', 'interior', 'asteroid', 'belt', '.', '\\\\n', \"''\", ',', \"'\\\\n\", \"'\", ',', '``', 'The', 'volume', 'space', 'within', 'object', 'said', 'orbit', 'Jupiter', 'defined', 'Jupiter', \"'s\", 'Hill', 'sphere', '(', 'called', 'Roche', 'sphere', ')', '.', 'When', 'comet', 'passed', 'Jupiter', 'late', '1960s', 'early', '1970s', ',', 'happened', 'near', 'aphelion', ',', 'found', 'slightly', 'within', 'Jupiter', \"'s\", 'Hill', 'sphere', '.', 'Jupiter', \"'s\", 'gravity', 'nudged', 'comet', 'towards', '.', 'Because', 'comet', \"'s\", 'motion', 'respect', 'Jupiter', 'small', ',', 'fell', 'almost', 'straight', 'toward', 'Jupiter', ',', 'ended', 'Jupiter-centric', 'orbit', 'high', 'eccentricitythat', 'say', ',', 'ellipse', 'nearly', 'flattened', '.', '\\\\n', \"''\", ',', \"'\\\\n\", \"'\", ',', \"'The\", 'comet', 'apparently', 'passed', 'extremely', 'close', 'Jupiter', 'July', '7', ',', '1992', ',', '40000', 'km', 'planet\\\\', \"'s\", 'cloud', 'topsa', 'smaller', 'distance', 'Jupiter\\\\', \"'s\", 'radius', '70000', 'km', ',', 'well', 'within', 'orbit', 'Jupiter\\\\', \"'s\", 'innermost', 'moon', 'Metis', 'planet\\\\', \"'s\", 'Roche', 'limit', ',', 'inside', 'tidal', 'forces', 'strong', 'enough', 'disrupt', 'body', 'held', 'together', 'gravity', '.', 'Although', 'comet', 'approached', 'Jupiter', 'closely', ',', 'July', '7', 'encounter', 'seemed', 'far', 'closest', ',', 'fragmentation', 'comet', 'thought', 'occurred', 'time', '.', 'Each', 'fragment', 'comet', 'denoted', 'letter', 'alphabet', ',', '``', 'fragment', 'A', \"''\", '``', 'fragment', 'W', \"''\", ',', 'practice', 'already', 'established', 'previously', 'observed', 'broken-up', 'comets', '.', '\\\\n', \"'\", ',', \"'\\\\n\", \"'\", ',', '``', 'More', 'exciting', 'planetary', 'astronomers', 'best', 'orbital', 'solutions', 'suggested', 'comet', 'would', 'pass', 'within', '45000', 'km', 'center', 'Jupiter', ',', 'distance', 'smaller', 'planet', \"'s\", 'radius', ',', 'meaning', 'extremely', 'high', 'probability', 'SL9', 'would', 'collide', 'Jupiter', 'July', '1994', '.', 'Studies', 'suggested', 'train', 'nuclei', 'would', 'plow', 'Jupiter', \"'s\", 'atmosphere', 'period', 'five', 'days', '.', '\\\\n', \"''\", ',', \"'\\\\n\", \"'\", ',', \"'==\", 'Predictions', 'collision', '==\\\\n', \"'\", ',', '``', 'The', 'discovery', 'comet', 'likely', 'collide', 'Jupiter', 'caused', 'great', 'excitement', 'within', 'astronomical', 'community', 'beyond', ',', 'astronomers', 'never', 'seen', 'two', 'significant', 'Solar', 'System', 'bodies', 'collide', '.', 'Intense', 'studies', 'comet', 'undertaken', ',', 'orbit', 'became', 'accurately', 'established', ',', 'possibility', 'collision', 'became', 'certainty', '.', 'The', 'collision', 'would', 'provide', 'unique', 'opportunity', 'scientists', 'look', 'inside', 'Jupiter', \"'s\", 'atmosphere', ',', 'collisions', 'expected', 'cause', 'eruptions', 'material', 'layers', 'normally', 'hidden', 'beneath', 'clouds', '.', '\\\\n', \"''\", ',', \"'\\\\n\", \"'\", ',', \"'Astronomers\", 'estimated', 'visible', 'fragments', 'SL9', 'ranged', 'size', 'hundred', 'metres', 'two', 'kilometres', 'across', ',', 'suggesting', 'original', 'comet', 'may', 'nucleus', 'acrosssomewhat', 'larger', 'Comet', 'Hyakutake', ',', 'became', 'bright', 'passed', 'close', 'Earth', '1996', '.', 'One', 'great', 'debates', 'advance', 'impact', 'whether', 'effects', 'impact', 'small', 'bodies', 'would', 'noticeable', 'Earth', ',', 'apart', 'flash', 'disintegrated', 'like', 'giant', 'meteors', '.', '\\\\n', \"'\", ',', \"'Other\", 'suggested', 'effects', 'impacts', 'seismic', 'waves', 'travelling', 'across', 'planet', ',', 'increase', 'stratospheric', 'haze', 'planet', 'due', 'dust', 'impacts', ',', 'increase', 'mass', 'Jovian', 'ring', 'system', '.', 'However', ',', 'given', 'observing', 'collision', 'completely', 'unprecedented', ',', 'astronomers', 'cautious', 'predictions', 'event', 'might', 'reveal', '.', '\\\\n', \"'\", ',', \"'\\\\n\", \"'\", ',', \"'==\", 'Impacts', '==\\\\n', \"'\", ',', '``', 'Jupiter', 'Ultraviolet', '(', '2.5', 'hours', 'R', \"'s\", 'impact', ')', '.', 'The', 'black', 'dot', 'near', 'top', 'Io', 'transiting', 'Jupiter.\\\\n', \"''\", ',', \"'\\\\n\", \"'\", ',', '``', 'Anticipation', 'grew', 'predicted', 'date', 'collisions', 'approached', ',', 'astronomers', 'trained', 'terrestrial', 'telescopes', 'Jupiter', '.', 'Several', 'space', 'observatories', ',', 'including', 'Hubble', 'Space', 'Telescope', ',', 'ROSAT', 'X-ray', 'observing', 'satellite', ',', 'significantly', 'Galileo', 'spacecraft', ',', 'way', 'rendezvous', 'Jupiter', 'scheduled', '1995', '.', 'While', 'impacts', 'took', 'place', 'side', 'Jupiter', 'hidden', 'Earth', ',', 'Galileo', ',', 'distance', '1.6', 'AU', 'planet', ',', 'able', 'see', 'impacts', 'occurred', '.', 'Jupiter', \"'s\", 'rapid', 'rotation', 'brought', 'impact', 'sites', 'view', 'terrestrial', 'observers', 'minutes', 'collisions', '.', '\\\\n', \"''\", ',', \"'\", '\\\\n', \"'\", ',', \"'\\\\n\", \"'\", ',', \"'Two\", 'satellites', 'made', 'observations', 'time', 'impact', ':', 'Ulysses', 'spacecraft', ',', 'primarily', 'designed', 'solar', 'observations', ',', 'pointed', 'towards', 'Jupiter', 'location', '2.6', 'AU', 'away', ',', 'distant', 'Voyager', '2', 'probe', ',', '44', 'AU', 'Jupiter', 'way', 'Solar', 'System', 'following', 'encounter', 'Neptune', '1989', ',', 'programmed', 'look', 'radio', 'emission', '1â\\\\x80\\\\x93390', 'kHz', 'range', '.', '\\\\n', \"'\", ',', \"'\\\\n\", \"'\", ',', \"'HST\", 'images', 'fireball', 'first', 'impact', 'appearing', 'limb', 'planet\\\\n', \"'\", ',', \"'\\\\n\", \"'\", ',', '``', 'The', 'first', 'impact', 'occurred', '20:13', 'UTC', 'July', '16', ',', '1994', ',', 'fragment', 'A', 'nucleus', 'entered', 'Jupiter', \"'s\", 'southern', 'hemisphere', 'speed', '60', 'km/s', '.', 'Instruments', 'Galileo', 'detected', 'fireball', 'reached', 'peak', 'temperature', '24,000', 'K', ',', 'compared', 'typical', 'Jovian', 'cloudtop', 'temperature', '130', 'K', ',', 'expanding', 'cooling', 'rapidly', '1500', 'K', '40', 's.', 'The', 'plume', 'fireball', 'quickly', 'reached', 'height', '3,000', 'km', '.', 'A', 'minutes', 'impact', 'fireball', 'detected', ',', 'Galileo', 'measured', 'renewed', 'heating', ',', 'probably', 'due', 'ejected', 'material', 'falling', 'back', 'onto', 'planet', '.', 'Earth-based', 'observers', 'detected', 'fireball', 'rising', 'limb', 'planet', 'shortly', 'initial', 'impact', '.', '\\\\n', \"''\", ',', \"'\\\\n\", \"'\", ',', \"'Astronomers\", 'expected', 'see', 'fireballs', 'impacts', ',', 'idea', 'advance', 'visible', 'atmospheric', 'effects', 'impacts', 'would', 'Earth', '.', 'Observers', 'soon', 'saw', 'huge', 'dark', 'spot', 'first', 'impact', '.', 'The', 'spot', 'visible', 'even', 'small', 'telescopes', ',', '(', 'Earth', 'radius', ')', 'across', '.', 'This', 'subsequent', 'dark', 'spots', 'thought', 'caused', 'debris', 'impacts', ',', 'markedly', 'asymmetric', ',', 'forming', 'crescent', 'shapes', 'front', 'direction', 'impact', '.', '\\\\n', \"'\", ',', \"'\\\\n\", \"'\", ',', '``', 'Over', 'next', '6', 'days', ',', '21', 'distinct', 'impacts', 'observed', ',', 'largest', 'coming', 'July', '18', '07:33', 'UTC', 'fragment', 'G', 'struck', 'Jupiter', '.', 'This', 'impact', 'created', 'giant', 'dark', 'spot', '12,000', 'km', 'across', ',', 'estimated', 'released', 'energy', 'equivalent', '6,000,000', 'megatons', 'TNT', '(', '600', 'times', 'world', \"'s\", 'nuclear', 'arsenal', ')', '.', 'Two', 'impacts', '12', 'hours', 'apart', 'July', '19', 'created', 'impact', 'marks', 'similar', 'size', 'caused', 'fragment', 'G', ',', 'impacts', 'continued', 'July', '22', ',', 'fragment', 'W', 'struck', 'planet', '.', '\\\\n', \"''\", ',', \"'\\\\n\", \"'\", ',', \"'==\", 'Observations', 'discoveries', '==\\\\n', \"'\", ',', \"'\\\\n\", \"'\", ',', \"'===\", 'Chemical', 'studies', '===\\\\n', \"'\", ',', '``', 'Brown', 'spots', 'mark', 'impact', 'sites', 'Jupiter', \"'s\", 'southern', 'hemisphere.\\\\n', \"''\", ',', \"'\\\\n\", \"'\", ',', \"'Observers\", 'hoped', 'impacts', 'would', 'give', 'first', 'glimpse', 'Jupiter', 'beneath', 'cloud', 'tops', ',', 'lower', 'material', 'exposed', 'comet', 'fragments', 'punching', 'upper', 'atmosphere', '.', 'Spectroscopic', 'studies', 'revealed', 'absorption', 'lines', 'Jovian', 'spectrum', 'due', 'diatomic', 'sulfur', '(', 'S2', ')', 'carbon', 'disulfide', '(', 'CS2', ')', ',', 'first', 'detection', 'either', 'Jupiter', ',', 'second', 'detection', 'S2', 'astronomical', 'object', '.', 'Other', 'molecules', 'detected', 'included', 'ammonia', '(', 'NH3', ')', 'hydrogen', 'sulfide', '(', 'H2S', ')', '.', 'The', 'amount', 'sulfur', 'implied', 'quantities', 'compounds', 'much', 'greater', 'amount', 'would', 'expected', 'small', 'cometary', 'nucleus', ',', 'showing', 'material', 'within', 'Jupiter', 'revealed', '.', 'Oxygen-bearing', 'molecules', 'sulfur', 'dioxide', 'detected', ',', 'surprise', 'astronomers', '.', '\\\\n', \"'\", ',', \"'\\\\n\", \"'\", ',', '``', 'As', 'well', 'molecules', ',', 'emission', 'heavy', 'atoms', 'iron', ',', 'magnesium', 'silicon', 'detected', ',', 'abundances', 'consistent', 'would', 'found', 'cometary', 'nucleus', '.', 'While', 'substantial', 'water', 'detected', 'spectroscopically', ',', 'much', 'predicted', 'beforehand', ',', 'meaning', 'either', 'water', 'layer', 'thought', 'exist', 'clouds', 'thinner', 'predicted', ',', 'cometary', 'fragments', 'penetrate', 'deeply', 'enough', '.', 'The', 'relatively', 'low', 'levels', 'water', 'later', 'confirmed', 'Galileo', \"'s\", 'atmospheric', 'probe', ',', 'explored', 'Jupiter', \"'s\", 'atmosphere', 'directly.\\\\n', \"''\", ',', \"'\\\\n\", \"'\", ',', \"'===\", 'Waves', '===\\\\n', \"'\", ',', \"'As\", 'predicted', 'beforehand', ',', 'collisions', 'generated', 'enormous', 'waves', 'swept', 'across', 'planet', 'speeds', 'observed', 'two', 'hours', 'largest', 'impacts', '.', 'The', 'waves', 'thought', 'travelling', 'within', 'stable', 'layer', 'acting', 'waveguide', ',', 'scientists', 'believed', 'stable', 'layer', 'must', 'lie', 'within', 'hypothesised', 'tropospheric', 'water', 'cloud', '.', 'However', ',', 'evidence', 'seemed', 'indicate', 'cometary', 'fragments', 'reached', 'water', 'layer', ',', 'waves', 'instead', 'propagating', 'within', 'stratosphere', '.', '\\\\n', \"'\", ',', \"'\\\\n\", \"'\", ',', \"'===\", 'Other', 'observations', '===\\\\n', \"'\", ',', \"'\", 'A', 'sequence', 'Galileo', 'images', ',', 'taken', 'several', 'seconds', 'apart', ',', 'showing', 'appearance', 'fireball', 'fragment', 'W', 'dark', 'side', 'Jupiter\\\\n', \"'\", ',', \"'\\\\n\", \"'\", ',', \"'Radio\", 'observations', 'revealed', 'sharp', 'increase', 'continuum', 'emission', 'wavelength', '21', 'cm', 'largest', 'impacts', ',', 'peaked', '120', '%', 'normal', 'emission', 'planet', '.', 'This', 'thought', 'due', 'synchrotron', 'radiation', ',', 'caused', 'injection', 'relativistic', 'electronselectrons', 'velocities', 'near', 'speed', 'lightinto', 'Jovian', 'magnetosphere', 'impacts', '.', '\\\\n', \"'\", ',', \"'\\\\n\", \"'\", ',', '``', 'About', 'hour', 'fragment', 'K', 'entered', 'Jupiter', ',', 'observers', 'recorded', 'auroral', 'emission', 'near', 'impact', 'region', ',', 'well', 'antipode', 'impact', 'site', 'respect', 'Jupiter', \"'s\", 'strong', 'magnetic', 'field', '.', 'The', 'cause', 'emissions', 'difficult', 'establish', 'due', 'lack', 'knowledge', 'Jupiter', \"'s\", 'internal', 'magnetic', 'field', 'geometry', 'impact', 'sites', '.', 'One', 'possible', 'explanation', 'upwardly', 'accelerating', 'shock', 'waves', 'impact', 'accelerated', 'charged', 'particles', 'enough', 'cause', 'auroral', 'emission', ',', 'phenomenon', 'typically', 'associated', 'fast-moving', 'solar', 'wind', 'particles', 'striking', 'planetary', 'atmosphere', 'near', 'magnetic', 'pole', '.', '\\\\n', \"''\", ',', \"'\\\\n\", \"'\", ',', \"'Some\", 'astronomers', 'suggested', 'impacts', 'might', 'noticeable', 'effect', 'Io', 'torus', ',', 'torus', 'high-energy', 'particles', 'connecting', 'Jupiter', 'highly', 'volcanic', 'moon', 'Io', '.', 'High', 'resolution', 'spectroscopic', 'studies', 'found', 'variations', 'ion', 'density', ',', 'rotational', 'velocity', ',', 'temperatures', 'time', 'impact', 'afterwards', 'within', 'normal', 'limits', '.', '\\\\n', \"'\", ',', \"'\\\\n\", \"'\", ',', \"'==\", 'Post-impact', 'analysis', '==\\\\n', \"'\", ',', \"'\", 'A', 'reddish', ',', 'asymmetric', 'ejecta', 'pattern\\\\n', \"'\", ',', \"'\\\\n\", \"'\", ',', '``', 'One', 'surprises', 'impacts', 'small', 'amount', 'water', 'revealed', 'compared', 'prior', 'predictions', '.', 'Before', 'impact', ',', 'models', 'Jupiter', \"'s\", 'atmosphere', 'indicated', 'break-up', 'largest', 'fragments', 'would', 'occur', 'atmospheric', 'pressures', 'anywhere', '30', 'kilopascals', 'tens', 'megapascals', '(', '0.3', 'hundred', 'bar', ')', ',', 'predictions', 'comet', 'would', 'penetrate', 'layer', 'water', 'create', 'bluish', 'shroud', 'region', 'Jupiter', '.', '\\\\n', \"''\", ',', \"'\\\\n\", \"'\", ',', '``', 'Astronomers', 'observe', 'large', 'amounts', 'water', 'following', 'collisions', ',', 'later', 'impact', 'studies', 'found', 'fragmentation', 'destruction', 'cometary', 'fragments', \"'airburst\", \"'\", 'probably', 'occurred', 'much', 'higher', 'altitudes', 'previously', 'expected', ',', 'even', 'largest', 'fragments', 'destroyed', 'pressure', 'reached', ',', 'well', 'expected', 'depth', 'water', 'layer', '.', 'The', 'smaller', 'fragments', 'probably', 'destroyed', 'even', 'reached', 'cloud', 'layer', '.', '\\\\n', \"''\", ',', \"'\\\\n\", \"'\", ',', \"'==\", 'Longer-term', 'effects', '==', \"'\", ']']\n"
     ]
    }
   ],
   "source": [
    "#Removing All  The Stopwords From the String After Tokenizing The String\n",
    "tokens = word_tokenize(DataString)\n",
    "data = [word for word in tokens if not word in stopwords.words()]\n",
    "print(\"Updated Data after Performing stopwords: \",data)"
   ]
  },
  {
   "cell_type": "code",
   "execution_count": 5,
   "id": "f0c6445a",
   "metadata": {},
   "outputs": [],
   "source": [
    "#Performing Lemmatization On the Removed Stopwords Data\n",
    "WordLemmatizer = WordNetLemmatizer()\n",
    "Lemmatized_Data=[]\n",
    "for itr in data:\n",
    "    Lemmatized_Data.append(WordLemmatizer.lemmatize(itr))"
   ]
  },
  {
   "cell_type": "code",
   "execution_count": 6,
   "id": "d0b75a5a",
   "metadata": {},
   "outputs": [
    {
     "name": "stdout",
     "output_type": "stream",
     "text": [
      "Updated Data after Performing Symbols:  ['', 'Comet', 'Shoemakerx80x93Levy', '9', '', 'formally', 'designated', 'D1993', 'F2', '', 'comet', 'broke', 'apart', 'collided', 'Jupiter', 'July', '1994', '', 'providing', 'first', 'direct', 'observation', 'extraterrestrial', 'collision', 'Solar', 'System', 'object', '', 'This', 'generated', 'large', 'amount', 'coverage', 'popular', 'medium', '', 'comet', 'closely', 'observed', 'astronomer', 'worldwide', '', 'The', 'collision', 'provided', 'new', 'information', 'Jupiter', 'highlighted', 'role', 'reducing', 'space', 'debris', 'inner', 'Solar', 'Systemn', '', '', 'n', '', '', 'The', 'comet', 'discovered', 'astronomer', 'Carolyn', 'Eugene', 'M', 'Shoemaker', 'David', 'Levy', '', 'Shoemakerx80x93Levy', '9', '', 'time', 'captured', 'orbiting', 'Jupiter', '', 'located', 'night', 'March', '24', '', '1993', '', 'photograph', 'taken', 'Schmidt', 'telescope', 'Palomar', 'Observatory', 'California', '', 'It', 'first', 'comet', 'observed', 'orbiting', 'planet', '', 'probably', 'captured', 'planet', 'around', '20', 'x80x93', '30', 'year', 'earliern', '', '', 'n', '', '', '', 'Calculations', 'showed', 'unusual', 'fragmented', 'form', 'due', 'previous', 'closer', 'approach', 'Jupiter', 'July', '1992', '', 'At', 'time', '', 'orbit', 'Shoemakerx80x93Levy', '9', 'passed', 'within', 'Jupiter', 's', 'Roche', 'limit', '', 'Jupiter', 's', 'tidal', 'force', 'acted', 'pull', 'apart', 'comet', '', 'The', 'comet', 'later', 'observed', 'series', 'fragment', 'ranging', 'diameter', '', 'These', 'fragment', 'collided', 'Jupiter', 's', 'southern', 'hemisphere', 'July', '16', 'July', '22', '', '1994', '', 'speed', 'approximately', '', 'The', 'prominent', 'scar', 'impact', 'easily', 'visible', 'Great', 'Red', 'Spot', 'persisted', 'many', 'monthsn', '', '', 'n', '', '', '', 'Discovery', 'n', '', '', 'While', 'conducting', 'program', 'observation', 'designed', 'uncover', 'nearEarth', 'object', '', 'Shoemakers', 'Levy', 'discovered', 'Comet', 'Shoemakerx80x93Levy', '9', 'night', 'March', '24', '', '1993', 'photograph', 'taken', 'Schmidt', 'telescope', 'Palomar', 'Observatory', 'California', '', 'The', 'comet', 'thus', 'serendipitous', 'discovery', '', 'quickly', 'overshadowed', 'result', 'main', 'observing', 'program', '', 'n', '', '', 'n', '', '', 'Comet', 'Shoemakerx80x93Levy', '9', 'ninth', 'periodic', 'comet', '', 'comet', 'whose', 'orbital', 'period', '200', 'year', 'le', '', 'discovered', 'Shoemakers', 'Levy', '', 'hence', '', 'It', 'eleventh', 'comet', 'discovery', 'overall', 'including', 'discovery', 'two', 'nonperiodic', 'comet', '', 'use', 'different', 'nomenclature', '', 'The', 'discovery', 'announced', 'IAU', 'Circular', '5725', 'March', '27', '', '1993', '', 'n', '', '', 'n', '', '', '', 'The', 'discovery', 'image', 'gave', 'first', 'hint', 'comet', 'Shoemakerx80x93Levy', '9', 'unusual', 'comet', '', 'appeared', 'show', 'multiple', 'nucleus', 'elongated', 'region', '50', 'arcsecond', 'long', '10', 'arcsecond', 'wide', '', 'Brian', 'G', 'Marsden', 'Central', 'Bureau', 'Astronomical', 'Telegrams', 'noted', 'comet', 'lay', '4', 'degree', 'Jupiter', 'seen', 'Earth', '', 'could', 'course', 'line', 'sight', 'effect', '', 'apparent', 'motion', 'sky', 'suggested', 'physically', 'close', 'giant', 'planet', '', 'Because', '', 'suggested', 'Shoemakers', 'David', 'Levy', 'discovered', 'fragment', 'comet', 'disrupted', 'Jupiter', 's', 'gravityn', '', '', 'n', '', '', '', 'Jupiterorbiting', 'comet', 'n', '', '', 'Orbital', 'study', 'new', 'comet', 'soon', 'revealed', 'orbiting', 'Jupiter', 'rather', 'Sun', '', 'unlike', 'comet', 'known', 'time', '', 'Its', 'orbit', 'around', 'Jupiter', 'loosely', 'bound', '', 'period', '2', 'year', 'apojove', '', 'point', 'orbit', 'farthest', 'planet', '', '033', 'AU', '', 'Its', 'orbit', 'around', 'planet', 'highly', 'eccentric', '', '', '09986', '', '', 'n', '', '', 'n', '', '', '', 'Tracing', 'back', 'comet', 's', 'orbital', 'movement', 'revealed', 'orbiting', 'Jupiter', 'time', '', 'It', 'seems', 'likely', 'captured', 'solar', 'orbit', 'early', '1970s', '', 'although', 'capture', 'may', 'occurred', 'early', 'mid1960s', '', 'Several', 'observer', 'found', 'image', 'comet', 'precovery', 'image', 'obtained', 'March', '24', '', 'including', 'Kin', 'Endate', 'photograph', 'exposed', 'March', '15', '', 'S', 'Otomo', 'March', '17', '', 'team', 'led', 'Eleanor', 'Helin', 'image', 'March', '19', '', 'No', 'precovery', 'image', 'dating', 'back', 'earlier', 'March', '1993', 'found', '', 'Before', 'comet', 'captured', 'Jupiter', '', 'probably', 'shortperiod', 'comet', 'aphelion', 'inside', 'Jupiter', 's', 'orbit', '', 'perihelion', 'interior', 'asteroid', 'belt', '', 'n', '', '', 'n', '', '', '', 'The', 'volume', 'space', 'within', 'object', 'said', 'orbit', 'Jupiter', 'defined', 'Jupiter', 's', 'Hill', 'sphere', '', 'called', 'Roche', 'sphere', '', '', 'When', 'comet', 'passed', 'Jupiter', 'late', '1960s', 'early', '1970s', '', 'happened', 'near', 'aphelion', '', 'found', 'slightly', 'within', 'Jupiter', 's', 'Hill', 'sphere', '', 'Jupiter', 's', 'gravity', 'nudged', 'comet', 'towards', '', 'Because', 'comet', 's', 'motion', 'respect', 'Jupiter', 'small', '', 'fell', 'almost', 'straight', 'toward', 'Jupiter', '', 'ended', 'Jupitercentric', 'orbit', 'high', 'eccentricitythat', 'say', '', 'ellipse', 'nearly', 'flattened', '', 'n', '', '', 'n', '', '', 'The', 'comet', 'apparently', 'passed', 'extremely', 'close', 'Jupiter', 'July', '7', '', '1992', '', '40000', 'km', 'planet', 's', 'cloud', 'topsa', 'smaller', 'distance', 'Jupiter', 's', 'radius', '70000', 'km', '', 'well', 'within', 'orbit', 'Jupiter', 's', 'innermost', 'moon', 'Metis', 'planet', 's', 'Roche', 'limit', '', 'inside', 'tidal', 'force', 'strong', 'enough', 'disrupt', 'body', 'held', 'together', 'gravity', '', 'Although', 'comet', 'approached', 'Jupiter', 'closely', '', 'July', '7', 'encounter', 'seemed', 'far', 'closest', '', 'fragmentation', 'comet', 'thought', 'occurred', 'time', '', 'Each', 'fragment', 'comet', 'denoted', 'letter', 'alphabet', '', '', 'fragment', 'A', '', '', 'fragment', 'W', '', '', 'practice', 'already', 'established', 'previously', 'observed', 'brokenup', 'comet', '', 'n', '', '', 'n', '', '', '', 'More', 'exciting', 'planetary', 'astronomer', 'best', 'orbital', 'solution', 'suggested', 'comet', 'would', 'pas', 'within', '45000', 'km', 'center', 'Jupiter', '', 'distance', 'smaller', 'planet', 's', 'radius', '', 'meaning', 'extremely', 'high', 'probability', 'SL9', 'would', 'collide', 'Jupiter', 'July', '1994', '', 'Studies', 'suggested', 'train', 'nucleus', 'would', 'plow', 'Jupiter', 's', 'atmosphere', 'period', 'five', 'day', '', 'n', '', '', 'n', '', '', '', 'Predictions', 'collision', 'n', '', '', '', 'The', 'discovery', 'comet', 'likely', 'collide', 'Jupiter', 'caused', 'great', 'excitement', 'within', 'astronomical', 'community', 'beyond', '', 'astronomer', 'never', 'seen', 'two', 'significant', 'Solar', 'System', 'body', 'collide', '', 'Intense', 'study', 'comet', 'undertaken', '', 'orbit', 'became', 'accurately', 'established', '', 'possibility', 'collision', 'became', 'certainty', '', 'The', 'collision', 'would', 'provide', 'unique', 'opportunity', 'scientist', 'look', 'inside', 'Jupiter', 's', 'atmosphere', '', 'collision', 'expected', 'cause', 'eruption', 'material', 'layer', 'normally', 'hidden', 'beneath', 'cloud', '', 'n', '', '', 'n', '', '', 'Astronomers', 'estimated', 'visible', 'fragment', 'SL9', 'ranged', 'size', 'hundred', 'metre', 'two', 'kilometre', 'across', '', 'suggesting', 'original', 'comet', 'may', 'nucleus', 'acrosssomewhat', 'larger', 'Comet', 'Hyakutake', '', 'became', 'bright', 'passed', 'close', 'Earth', '1996', '', 'One', 'great', 'debate', 'advance', 'impact', 'whether', 'effect', 'impact', 'small', 'body', 'would', 'noticeable', 'Earth', '', 'apart', 'flash', 'disintegrated', 'like', 'giant', 'meteor', '', 'n', '', '', 'Other', 'suggested', 'effect', 'impact', 'seismic', 'wave', 'travelling', 'across', 'planet', '', 'increase', 'stratospheric', 'haze', 'planet', 'due', 'dust', 'impact', '', 'increase', 'mass', 'Jovian', 'ring', 'system', '', 'However', '', 'given', 'observing', 'collision', 'completely', 'unprecedented', '', 'astronomer', 'cautious', 'prediction', 'event', 'might', 'reveal', '', 'n', '', '', 'n', '', '', '', 'Impacts', 'n', '', '', '', 'Jupiter', 'Ultraviolet', '', '25', 'hour', 'R', 's', 'impact', '', '', 'The', 'black', 'dot', 'near', 'top', 'Io', 'transiting', 'Jupitern', '', '', 'n', '', '', '', 'Anticipation', 'grew', 'predicted', 'date', 'collision', 'approached', '', 'astronomer', 'trained', 'terrestrial', 'telescope', 'Jupiter', '', 'Several', 'space', 'observatory', '', 'including', 'Hubble', 'Space', 'Telescope', '', 'ROSAT', 'Xray', 'observing', 'satellite', '', 'significantly', 'Galileo', 'spacecraft', '', 'way', 'rendezvous', 'Jupiter', 'scheduled', '1995', '', 'While', 'impact', 'took', 'place', 'side', 'Jupiter', 'hidden', 'Earth', '', 'Galileo', '', 'distance', '16', 'AU', 'planet', '', 'able', 'see', 'impact', 'occurred', '', 'Jupiter', 's', 'rapid', 'rotation', 'brought', 'impact', 'site', 'view', 'terrestrial', 'observer', 'minute', 'collision', '', 'n', '', '', '', 'n', '', '', 'n', '', '', 'Two', 'satellite', 'made', 'observation', 'time', 'impact', '', 'Ulysses', 'spacecraft', '', 'primarily', 'designed', 'solar', 'observation', '', 'pointed', 'towards', 'Jupiter', 'location', '26', 'AU', 'away', '', 'distant', 'Voyager', '2', 'probe', '', '44', 'AU', 'Jupiter', 'way', 'Solar', 'System', 'following', 'encounter', 'Neptune', '1989', '', 'programmed', 'look', 'radio', 'emission', '1x80x93390', 'kHz', 'range', '', 'n', '', '', 'n', '', '', 'HST', 'image', 'fireball', 'first', 'impact', 'appearing', 'limb', 'planetn', '', '', 'n', '', '', '', 'The', 'first', 'impact', 'occurred', '2013', 'UTC', 'July', '16', '', '1994', '', 'fragment', 'A', 'nucleus', 'entered', 'Jupiter', 's', 'southern', 'hemisphere', 'speed', '60', 'kms', '', 'Instruments', 'Galileo', 'detected', 'fireball', 'reached', 'peak', 'temperature', '24000', 'K', '', 'compared', 'typical', 'Jovian', 'cloudtop', 'temperature', '130', 'K', '', 'expanding', 'cooling', 'rapidly', '1500', 'K', '40', 's', 'The', 'plume', 'fireball', 'quickly', 'reached', 'height', '3000', 'km', '', 'A', 'minute', 'impact', 'fireball', 'detected', '', 'Galileo', 'measured', 'renewed', 'heating', '', 'probably', 'due', 'ejected', 'material', 'falling', 'back', 'onto', 'planet', '', 'Earthbased', 'observer', 'detected', 'fireball', 'rising', 'limb', 'planet', 'shortly', 'initial', 'impact', '', 'n', '', '', 'n', '', '', 'Astronomers', 'expected', 'see', 'fireball', 'impact', '', 'idea', 'advance', 'visible', 'atmospheric', 'effect', 'impact', 'would', 'Earth', '', 'Observers', 'soon', 'saw', 'huge', 'dark', 'spot', 'first', 'impact', '', 'The', 'spot', 'visible', 'even', 'small', 'telescope', '', '', 'Earth', 'radius', '', 'across', '', 'This', 'subsequent', 'dark', 'spot', 'thought', 'caused', 'debris', 'impact', '', 'markedly', 'asymmetric', '', 'forming', 'crescent', 'shape', 'front', 'direction', 'impact', '', 'n', '', '', 'n', '', '', '', 'Over', 'next', '6', 'day', '', '21', 'distinct', 'impact', 'observed', '', 'largest', 'coming', 'July', '18', '0733', 'UTC', 'fragment', 'G', 'struck', 'Jupiter', '', 'This', 'impact', 'created', 'giant', 'dark', 'spot', '12000', 'km', 'across', '', 'estimated', 'released', 'energy', 'equivalent', '6000000', 'megaton', 'TNT', '', '600', 'time', 'world', 's', 'nuclear', 'arsenal', '', '', 'Two', 'impact', '12', 'hour', 'apart', 'July', '19', 'created', 'impact', 'mark', 'similar', 'size', 'caused', 'fragment', 'G', '', 'impact', 'continued', 'July', '22', '', 'fragment', 'W', 'struck', 'planet', '', 'n', '', '', 'n', '', '', '', 'Observations', 'discovery', 'n', '', '', 'n', '', '', '', 'Chemical', 'study', 'n', '', '', '', 'Brown', 'spot', 'mark', 'impact', 'site', 'Jupiter', 's', 'southern', 'hemispheren', '', '', 'n', '', '', 'Observers', 'hoped', 'impact', 'would', 'give', 'first', 'glimpse', 'Jupiter', 'beneath', 'cloud', 'top', '', 'lower', 'material', 'exposed', 'comet', 'fragment', 'punching', 'upper', 'atmosphere', '', 'Spectroscopic', 'study', 'revealed', 'absorption', 'line', 'Jovian', 'spectrum', 'due', 'diatomic', 'sulfur', '', 'S2', '', 'carbon', 'disulfide', '', 'CS2', '', '', 'first', 'detection', 'either', 'Jupiter', '', 'second', 'detection', 'S2', 'astronomical', 'object', '', 'Other', 'molecule', 'detected', 'included', 'ammonia', '', 'NH3', '', 'hydrogen', 'sulfide', '', 'H2S', '', '', 'The', 'amount', 'sulfur', 'implied', 'quantity', 'compound', 'much', 'greater', 'amount', 'would', 'expected', 'small', 'cometary', 'nucleus', '', 'showing', 'material', 'within', 'Jupiter', 'revealed', '', 'Oxygenbearing', 'molecule', 'sulfur', 'dioxide', 'detected', '', 'surprise', 'astronomer', '', 'n', '', '', 'n', '', '', '', 'As', 'well', 'molecule', '', 'emission', 'heavy', 'atom', 'iron', '', 'magnesium', 'silicon', 'detected', '', 'abundance', 'consistent', 'would', 'found', 'cometary', 'nucleus', '', 'While', 'substantial', 'water', 'detected', 'spectroscopically', '', 'much', 'predicted', 'beforehand', '', 'meaning', 'either', 'water', 'layer', 'thought', 'exist', 'cloud', 'thinner', 'predicted', '', 'cometary', 'fragment', 'penetrate', 'deeply', 'enough', '', 'The', 'relatively', 'low', 'level', 'water', 'later', 'confirmed', 'Galileo', 's', 'atmospheric', 'probe', '', 'explored', 'Jupiter', 's', 'atmosphere', 'directlyn', '', '', 'n', '', '', '', 'Waves', 'n', '', '', 'As', 'predicted', 'beforehand', '', 'collision', 'generated', 'enormous', 'wave', 'swept', 'across', 'planet', 'speed', 'observed', 'two', 'hour', 'largest', 'impact', '', 'The', 'wave', 'thought', 'travelling', 'within', 'stable', 'layer', 'acting', 'waveguide', '', 'scientist', 'believed', 'stable', 'layer', 'must', 'lie', 'within', 'hypothesised', 'tropospheric', 'water', 'cloud', '', 'However', '', 'evidence', 'seemed', 'indicate', 'cometary', 'fragment', 'reached', 'water', 'layer', '', 'wave', 'instead', 'propagating', 'within', 'stratosphere', '', 'n', '', '', 'n', '', '', '', 'Other', 'observation', 'n', '', '', '', 'A', 'sequence', 'Galileo', 'image', '', 'taken', 'several', 'second', 'apart', '', 'showing', 'appearance', 'fireball', 'fragment', 'W', 'dark', 'side', 'Jupitern', '', '', 'n', '', '', 'Radio', 'observation', 'revealed', 'sharp', 'increase', 'continuum', 'emission', 'wavelength', '21', 'cm', 'largest', 'impact', '', 'peaked', '120', '', 'normal', 'emission', 'planet', '', 'This', 'thought', 'due', 'synchrotron', 'radiation', '', 'caused', 'injection', 'relativistic', 'electronselectrons', 'velocity', 'near', 'speed', 'lightinto', 'Jovian', 'magnetosphere', 'impact', '', 'n', '', '', 'n', '', '', '', 'About', 'hour', 'fragment', 'K', 'entered', 'Jupiter', '', 'observer', 'recorded', 'auroral', 'emission', 'near', 'impact', 'region', '', 'well', 'antipode', 'impact', 'site', 'respect', 'Jupiter', 's', 'strong', 'magnetic', 'field', '', 'The', 'cause', 'emission', 'difficult', 'establish', 'due', 'lack', 'knowledge', 'Jupiter', 's', 'internal', 'magnetic', 'field', 'geometry', 'impact', 'site', '', 'One', 'possible', 'explanation', 'upwardly', 'accelerating', 'shock', 'wave', 'impact', 'accelerated', 'charged', 'particle', 'enough', 'cause', 'auroral', 'emission', '', 'phenomenon', 'typically', 'associated', 'fastmoving', 'solar', 'wind', 'particle', 'striking', 'planetary', 'atmosphere', 'near', 'magnetic', 'pole', '', 'n', '', '', 'n', '', '', 'Some', 'astronomer', 'suggested', 'impact', 'might', 'noticeable', 'effect', 'Io', 'torus', '', 'torus', 'highenergy', 'particle', 'connecting', 'Jupiter', 'highly', 'volcanic', 'moon', 'Io', '', 'High', 'resolution', 'spectroscopic', 'study', 'found', 'variation', 'ion', 'density', '', 'rotational', 'velocity', '', 'temperature', 'time', 'impact', 'afterwards', 'within', 'normal', 'limit', '', 'n', '', '', 'n', '', '', '', 'Postimpact', 'analysis', 'n', '', '', '', 'A', 'reddish', '', 'asymmetric', 'ejecta', 'patternn', '', '', 'n', '', '', '', 'One', 'surprise', 'impact', 'small', 'amount', 'water', 'revealed', 'compared', 'prior', 'prediction', '', 'Before', 'impact', '', 'model', 'Jupiter', 's', 'atmosphere', 'indicated', 'breakup', 'largest', 'fragment', 'would', 'occur', 'atmospheric', 'pressure', 'anywhere', '30', 'kilopascals', 'ten', 'megapascals', '', '03', 'hundred', 'bar', '', '', 'prediction', 'comet', 'would', 'penetrate', 'layer', 'water', 'create', 'bluish', 'shroud', 'region', 'Jupiter', '', 'n', '', '', 'n', '', '', '', 'Astronomers', 'observe', 'large', 'amount', 'water', 'following', 'collision', '', 'later', 'impact', 'study', 'found', 'fragmentation', 'destruction', 'cometary', 'fragment', 'airburst', '', 'probably', 'occurred', 'much', 'higher', 'altitude', 'previously', 'expected', '', 'even', 'largest', 'fragment', 'destroyed', 'pressure', 'reached', '', 'well', 'expected', 'depth', 'water', 'layer', '', 'The', 'smaller', 'fragment', 'probably', 'destroyed', 'even', 'reached', 'cloud', 'layer', '', 'n', '', '', 'n', '', '', '', 'Longerterm', 'effect', '', '', '']\n"
     ]
    }
   ],
   "source": [
    "#Importing RE Library To Remove All The Symbols From The Lemmatized Data\n",
    "import re\n",
    "Updated_Data = []\n",
    "Updated_Data = [re.sub('[^a-zA-Z0-9]+','', _) for _ in Lemmatized_Data]\n",
    "print(\"Updated Data after Performing Symbols: \",Updated_Data)"
   ]
  },
  {
   "cell_type": "code",
   "execution_count": 7,
   "id": "7c452409",
   "metadata": {},
   "outputs": [],
   "source": [
    "#Importing sklearn Library For Performing KMeans Clustering\n",
    "\n",
    "from sklearn.feature_extraction.text import TfidfVectorizer\n",
    "from sklearn.cluster import KMeans\n",
    "from sklearn.metrics import adjusted_rand_score \n",
    "# import warnings filter\n",
    "from warnings import simplefilter\n",
    "# ignore all future warnings\n",
    "simplefilter(action='ignore', category=FutureWarning)"
   ]
  },
  {
   "cell_type": "code",
   "execution_count": 8,
   "id": "80298c4d",
   "metadata": {},
   "outputs": [
    {
     "name": "stdout",
     "output_type": "stream",
     "text": [
      "Some Of The Values From Clusters: \n",
      "\n",
      " Terms from Cluster No 0:\n",
      "--------------------------\n",
      "Index: 132    comet\n",
      "Index: 291    impact\n",
      "Index: 247    fragment\n",
      "Index: 436    planet\n",
      "Index: 314    july\n",
      "Index: 131    collision\n",
      "Index: 412    orbit\n",
      "Index: 614    water\n",
      "Index: 582    time\n",
      "Index: 334    layer\n",
      "Index: 79    astronomer\n",
      "Index: 181    discovery\n",
      "Index: 359    march\n",
      "Index: 541    solar\n",
      "Index: 170    detected\n",
      "Index: 239    fireball\n",
      "Index: 397    nucleus\n",
      "Index: 83    atmosphere\n",
      "Index: 404    observed\n",
      "Index: 561    study\n",
      "\n",
      " Terms from Cluster No 1:\n",
      "--------------------------\n",
      "Index: 315    jupiter\n",
      "Index: 626    year\n",
      "Index: 205    ellipse\n",
      "Index: 212    enormous\n",
      "Index: 211    energy\n",
      "Index: 210    ended\n",
      "Index: 209    endate\n",
      "Index: 208    encounter\n",
      "Index: 207    emission\n",
      "Index: 206    elongated\n",
      "Index: 204    eleventh\n",
      "Index: 214    equivalent\n",
      "Index: 203    electronselectrons\n",
      "Index: 202    eleanor\n",
      "Index: 201    ejected\n",
      "Index: 200    ejecta\n",
      "Index: 199    effect\n",
      "Index: 198    eccentricitythat\n",
      "Index: 197    eccentric\n",
      "Index: 213    entered\n",
      "\n",
      " Terms from Cluster No 2:\n",
      "--------------------------\n",
      "Index: 207    emission\n",
      "Index: 626    year\n",
      "Index: 205    ellipse\n",
      "Index: 212    enormous\n",
      "Index: 211    energy\n",
      "Index: 210    ended\n",
      "Index: 209    endate\n",
      "Index: 208    encounter\n",
      "Index: 206    elongated\n",
      "Index: 204    eleventh\n",
      "Index: 214    equivalent\n",
      "Index: 203    electronselectrons\n",
      "Index: 202    eleanor\n",
      "Index: 201    ejected\n",
      "Index: 200    ejecta\n",
      "Index: 199    effect\n",
      "Index: 198    eccentricitythat\n",
      "Index: 197    eccentric\n",
      "Index: 213    entered\n",
      "Index: 215    eruption\n",
      "\n",
      " Terms from Cluster No 3:\n",
      "--------------------------\n",
      "Index: 290    image\n",
      "Index: 626    year\n",
      "Index: 205    ellipse\n",
      "Index: 211    energy\n",
      "Index: 210    ended\n",
      "Index: 209    endate\n",
      "Index: 208    encounter\n",
      "Index: 207    emission\n",
      "Index: 206    elongated\n",
      "Index: 204    eleventh\n",
      "Index: 213    entered\n",
      "Index: 203    electronselectrons\n",
      "Index: 202    eleanor\n",
      "Index: 201    ejected\n",
      "Index: 200    ejecta\n",
      "Index: 199    effect\n",
      "Index: 198    eccentricitythat\n",
      "Index: 197    eccentric\n",
      "Index: 212    enormous\n",
      "Index: 214    equivalent\n",
      "\n",
      " Terms from Cluster No 4:\n",
      "--------------------------\n",
      "Index: 610    visible\n",
      "Index: 626    year\n",
      "Index: 214    equivalent\n",
      "Index: 212    enormous\n",
      "Index: 211    energy\n",
      "Index: 210    ended\n",
      "Index: 209    endate\n",
      "Index: 208    encounter\n",
      "Index: 207    emission\n",
      "Index: 206    elongated\n",
      "Index: 205    ellipse\n",
      "Index: 204    eleventh\n",
      "Index: 203    electronselectrons\n",
      "Index: 202    eleanor\n",
      "Index: 201    ejected\n",
      "Index: 200    ejecta\n",
      "Index: 199    effect\n",
      "Index: 198    eccentricitythat\n",
      "Index: 197    eccentric\n",
      "Index: 213    entered\n"
     ]
    }
   ],
   "source": [
    "#Performing KMeans Clustering After Removal Of All The Symbols From The Lemmatized Data\n",
    "vectorizer = TfidfVectorizer(stop_words= 'english')\n",
    "X = vectorizer.fit_transform(Updated_Data)\n",
    "Kmean_Size= 5\n",
    "model = KMeans(n_clusters=Kmean_Size, init='k-means++', max_iter=100, n_init=1)\n",
    "model.fit(X)\n",
    "\n",
    "print(\"Some Of The Values From Clusters: \")\n",
    "order_centroids = model.cluster_centers_.argsort()[:, ::-1]\n",
    "terms = vectorizer.get_feature_names()\n",
    "for itr in range(Kmean_Size):\n",
    "    print(\"\\n Terms from Cluster No %d:\" % itr)\n",
    "    print(\"--------------------------\")\n",
    "    for itr2 in order_centroids [itr, :20]:\n",
    "        print(\"Index: %d\"%itr2,'   %s' % terms[itr2])"
   ]
  },
  {
   "cell_type": "code",
   "execution_count": 9,
   "id": "2f85c395",
   "metadata": {
    "scrolled": true
   },
   "outputs": [
    {
     "name": "stdout",
     "output_type": "stream",
     "text": [
      "Predicting The Cluster:\n",
      "\n",
      "Cluster:  [0]\n",
      "-------------\n",
      "\n",
      "Cluster:  [0]\n",
      "-------------\n",
      "\n",
      "Cluster:  [2]\n",
      "-------------\n",
      "\n"
     ]
    }
   ],
   "source": [
    "print(\"Predicting The Cluster:\\n\")\n",
    "\n",
    "Y = vectorizer.transform([\"The first impact occurred at 20:13\"])\n",
    "Predicting = model.predict(Y)\n",
    "print(\"Cluster: \",Predicting)\n",
    "print(\"-------------\\n\")\n",
    "\n",
    "Y = vectorizer.transform([\"A sequence of Galileo images\"])\n",
    "Predicting = model.predict(Y)\n",
    "print(\"Cluster: \",Predicting)\n",
    "print(\"-------------\\n\")\n",
    "\n",
    "Y = vectorizer.transform([\"emission from heavy atoms such as iron\"])\n",
    "Predicting = model.predict(Y)\n",
    "print(\"Cluster: \",Predicting)\n",
    "print(\"-------------\\n\")"
   ]
  }
 ],
 "metadata": {
  "kernelspec": {
   "display_name": "Python 3 (ipykernel)",
   "language": "python",
   "name": "python3"
  },
  "language_info": {
   "codemirror_mode": {
    "name": "ipython",
    "version": 3
   },
   "file_extension": ".py",
   "mimetype": "text/x-python",
   "name": "python",
   "nbconvert_exporter": "python",
   "pygments_lexer": "ipython3",
   "version": "3.9.7"
  }
 },
 "nbformat": 4,
 "nbformat_minor": 5
}
