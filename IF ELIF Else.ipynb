{
 "cells": [
  {
   "cell_type": "code",
   "execution_count": 1,
   "id": "e64d79df",
   "metadata": {},
   "outputs": [
    {
     "name": "stdout",
     "output_type": "stream",
     "text": [
      "It Is A Positive number\n"
     ]
    }
   ],
   "source": [
    "'''In this program, we will check\n",
    "if the number is positive or negative or zero\n",
    "and display an appropriate message'''\n",
    "\n",
    "num = 3.4\n",
    "\n",
    "if num > 0:\n",
    "    print(\"It Is A Positive number\")\n",
    "elif num == 0:\n",
    "    print(\"It Is Zero\")\n",
    "else:\n",
    "    print(\"It Is A Negative number\")"
   ]
  }
 ],
 "metadata": {
  "kernelspec": {
   "display_name": "Python 3 (ipykernel)",
   "language": "python",
   "name": "python3"
  },
  "language_info": {
   "codemirror_mode": {
    "name": "ipython",
    "version": 3
   },
   "file_extension": ".py",
   "mimetype": "text/x-python",
   "name": "python",
   "nbconvert_exporter": "python",
   "pygments_lexer": "ipython3",
   "version": "3.9.7"
  }
 },
 "nbformat": 4,
 "nbformat_minor": 5
}
